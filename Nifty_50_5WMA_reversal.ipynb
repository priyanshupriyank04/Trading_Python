{
  "nbformat": 4,
  "nbformat_minor": 0,
  "metadata": {
    "colab": {
      "provenance": [],
      "authorship_tag": "ABX9TyMYIBHE1FCot+M6Yv8Uvd7h",
      "include_colab_link": true
    },
    "kernelspec": {
      "name": "python3",
      "display_name": "Python 3"
    },
    "language_info": {
      "name": "python"
    }
  },
  "cells": [
    {
      "cell_type": "markdown",
      "metadata": {
        "id": "view-in-github",
        "colab_type": "text"
      },
      "source": [
        "<a href=\"https://colab.research.google.com/github/priyanshupriyank04/Trading_Python/blob/main/Nifty_50_5WMA_reversal.ipynb\" target=\"_parent\"><img src=\"https://colab.research.google.com/assets/colab-badge.svg\" alt=\"Open In Colab\"/></a>"
      ]
    },
    {
      "cell_type": "code",
      "execution_count": null,
      "metadata": {
        "id": "ggCObIMn_Tt9"
      },
      "outputs": [],
      "source": [
        "import yfinance as yf\n",
        "import pandas as pd\n",
        "import numpy as np\n",
        "import matplotlib.pyplot as plt"
      ]
    },
    {
      "cell_type": "markdown",
      "source": [
        "Nifty 50 stocks"
      ],
      "metadata": {
        "id": "1ws5yELC_cDH"
      }
    },
    {
      "cell_type": "code",
      "source": [
        "nifty_50_tickers = [\n",
        "    \"RELIANCE.NS\", \"TCS.NS\", \"INFY.NS\", \"HDFCBANK.NS\", \"ICICIBANK.NS\", \"ITC.NS\",\n",
        "    \"KOTAKBANK.NS\", \"SBIN.NS\", \"HINDUNILVR.NS\", \"BHARTIARTL.NS\", \"ASIANPAINT.NS\",\n",
        "    \"AXISBANK.NS\", \"BAJFINANCE.NS\", \"HCLTECH.NS\", \"TITAN.NS\", \"LT.NS\", \"MARUTI.NS\",\n",
        "    \"ULTRACEMCO.NS\", \"SUNPHARMA.NS\", \"NESTLEIND.NS\", \"WIPRO.NS\", \"POWERGRID.NS\",\n",
        "    \"ONGC.NS\", \"TECHM.NS\", \"TATASTEEL.NS\", \"ADANIPORTS.NS\", \"COALINDIA.NS\", \"JSWSTEEL.NS\",\n",
        "    \"HDFCLIFE.NS\", \"BPCL.NS\", \"HEROMOTOCO.NS\", \"BRITANNIA.NS\", \"EICHERMOT.NS\", \"DRREDDY.NS\",\n",
        "    \"DIVISLAB.NS\", \"CIPLA.NS\", \"APOLLOHOSP.NS\", \"BAJAJFINSV.NS\", \"BAJAJ-AUTO.NS\", \"GRASIM.NS\",\n",
        "    \"TATACONSUM.NS\", \"NTPC.NS\", \"HINDALCO.NS\", \"UPL.NS\", \"SHREECEM.NS\", \"INDUSINDBK.NS\",\n",
        "    \"M&M.NS\", \"ADANIENT.NS\", \"SBILIFE.NS\", \"ICICIPRULI.NS\"\n",
        "]\n"
      ],
      "metadata": {
        "id": "84t2w-Jj_ezH"
      },
      "execution_count": null,
      "outputs": []
    },
    {
      "cell_type": "markdown",
      "source": [
        "Fetching data for each stock"
      ],
      "metadata": {
        "id": "bb3cPQ_H_jsU"
      }
    },
    {
      "cell_type": "code",
      "source": [
        "def fetch_stock_data(ticker, period=\"5d\", interval=\"1m\"):\n",
        "    try:\n",
        "        data = yf.download(tickers=ticker, period=period, interval=interval)\n",
        "        data.reset_index(inplace=True)\n",
        "        data['datetime'] = pd.to_datetime(data['Datetime'])\n",
        "        data.set_index('datetime', inplace=True)\n",
        "        data = data[['Open', 'High', 'Low', 'Close', 'Volume']]\n",
        "        data.columns = ['open', 'high', 'low', 'close', 'volume']\n",
        "        return data\n",
        "    except Exception as e:\n",
        "        print(f\"Error fetching data for {ticker}: {e}\")\n",
        "        return None"
      ],
      "metadata": {
        "id": "OgnTA3dZ_m5t"
      },
      "execution_count": null,
      "outputs": []
    },
    {
      "cell_type": "code",
      "source": [
        "market_data = {}\n",
        "for ticker in nifty_50_tickers:\n",
        "    print(f\"Fetching data for {ticker}...\")\n",
        "    data = fetch_stock_data(ticker)\n",
        "    if data is not None:\n",
        "        market_data[ticker] = data"
      ],
      "metadata": {
        "colab": {
          "base_uri": "https://localhost:8080/"
        },
        "id": "9_gyM0mk_tgy",
        "outputId": "dba985d5-7c83-4ae4-bed8-b51e38ed6502"
      },
      "execution_count": null,
      "outputs": [
        {
          "output_type": "stream",
          "name": "stderr",
          "text": [
            "\r[*********************100%***********************]  1 of 1 completed"
          ]
        },
        {
          "output_type": "stream",
          "name": "stdout",
          "text": [
            "Fetching data for RELIANCE.NS...\n",
            "Fetching data for TCS.NS...\n"
          ]
        },
        {
          "output_type": "stream",
          "name": "stderr",
          "text": [
            "\n",
            "[*********************100%***********************]  1 of 1 completed\n",
            "[*********************100%***********************]  1 of 1 completed\n"
          ]
        },
        {
          "output_type": "stream",
          "name": "stdout",
          "text": [
            "Fetching data for INFY.NS...\n"
          ]
        },
        {
          "output_type": "stream",
          "name": "stderr",
          "text": [
            "\r[*********************100%***********************]  1 of 1 completed\n"
          ]
        },
        {
          "output_type": "stream",
          "name": "stdout",
          "text": [
            "Fetching data for HDFCBANK.NS...\n",
            "Fetching data for ICICIBANK.NS...\n"
          ]
        },
        {
          "output_type": "stream",
          "name": "stderr",
          "text": [
            "[*********************100%***********************]  1 of 1 completed\n",
            "[*********************100%***********************]  1 of 1 completed\n"
          ]
        },
        {
          "output_type": "stream",
          "name": "stdout",
          "text": [
            "Fetching data for ITC.NS...\n",
            "Fetching data for KOTAKBANK.NS...\n"
          ]
        },
        {
          "output_type": "stream",
          "name": "stderr",
          "text": [
            "[*********************100%***********************]  1 of 1 completed\n",
            "[*********************100%***********************]  1 of 1 completed\n"
          ]
        },
        {
          "output_type": "stream",
          "name": "stdout",
          "text": [
            "Fetching data for SBIN.NS...\n",
            "Fetching data for HINDUNILVR.NS...\n"
          ]
        },
        {
          "output_type": "stream",
          "name": "stderr",
          "text": [
            "[*********************100%***********************]  1 of 1 completed\n",
            "[*********************100%***********************]  1 of 1 completed\n"
          ]
        },
        {
          "output_type": "stream",
          "name": "stdout",
          "text": [
            "Fetching data for BHARTIARTL.NS...\n",
            "Fetching data for ASIANPAINT.NS...\n"
          ]
        },
        {
          "output_type": "stream",
          "name": "stderr",
          "text": [
            "[*********************100%***********************]  1 of 1 completed\n",
            "[*********************100%***********************]  1 of 1 completed\n"
          ]
        },
        {
          "output_type": "stream",
          "name": "stdout",
          "text": [
            "Fetching data for AXISBANK.NS...\n",
            "Fetching data for BAJFINANCE.NS...\n"
          ]
        },
        {
          "output_type": "stream",
          "name": "stderr",
          "text": [
            "[*********************100%***********************]  1 of 1 completed\n",
            "[*********************100%***********************]  1 of 1 completed\n"
          ]
        },
        {
          "output_type": "stream",
          "name": "stdout",
          "text": [
            "Fetching data for HCLTECH.NS...\n",
            "Fetching data for TITAN.NS...\n"
          ]
        },
        {
          "output_type": "stream",
          "name": "stderr",
          "text": [
            "[*********************100%***********************]  1 of 1 completed\n",
            "[*********************100%***********************]  1 of 1 completed\n"
          ]
        },
        {
          "output_type": "stream",
          "name": "stdout",
          "text": [
            "Fetching data for LT.NS...\n",
            "Fetching data for MARUTI.NS...\n"
          ]
        },
        {
          "output_type": "stream",
          "name": "stderr",
          "text": [
            "[*********************100%***********************]  1 of 1 completed\n",
            "[*********************100%***********************]  1 of 1 completed\n"
          ]
        },
        {
          "output_type": "stream",
          "name": "stdout",
          "text": [
            "Fetching data for ULTRACEMCO.NS...\n",
            "Fetching data for SUNPHARMA.NS...\n"
          ]
        },
        {
          "output_type": "stream",
          "name": "stderr",
          "text": [
            "[*********************100%***********************]  1 of 1 completed\n",
            "[*********************100%***********************]  1 of 1 completed\n"
          ]
        },
        {
          "output_type": "stream",
          "name": "stdout",
          "text": [
            "Fetching data for NESTLEIND.NS...\n",
            "Fetching data for WIPRO.NS...\n"
          ]
        },
        {
          "output_type": "stream",
          "name": "stderr",
          "text": [
            "[*********************100%***********************]  1 of 1 completed\n",
            "[*********************100%***********************]  1 of 1 completed\n"
          ]
        },
        {
          "output_type": "stream",
          "name": "stdout",
          "text": [
            "Fetching data for POWERGRID.NS...\n",
            "Fetching data for ONGC.NS...\n"
          ]
        },
        {
          "output_type": "stream",
          "name": "stderr",
          "text": [
            "[*********************100%***********************]  1 of 1 completed\n",
            "[*********************100%***********************]  1 of 1 completed\n"
          ]
        },
        {
          "output_type": "stream",
          "name": "stdout",
          "text": [
            "Fetching data for TECHM.NS...\n",
            "Fetching data for TATASTEEL.NS...\n"
          ]
        },
        {
          "output_type": "stream",
          "name": "stderr",
          "text": [
            "[*********************100%***********************]  1 of 1 completed\n",
            "[*********************100%***********************]  1 of 1 completed\n"
          ]
        },
        {
          "output_type": "stream",
          "name": "stdout",
          "text": [
            "Fetching data for ADANIPORTS.NS...\n",
            "Fetching data for COALINDIA.NS...\n"
          ]
        },
        {
          "output_type": "stream",
          "name": "stderr",
          "text": [
            "[*********************100%***********************]  1 of 1 completed\n",
            "[*********************100%***********************]  1 of 1 completed\n"
          ]
        },
        {
          "output_type": "stream",
          "name": "stdout",
          "text": [
            "Fetching data for JSWSTEEL.NS...\n",
            "Fetching data for HDFCLIFE.NS...\n"
          ]
        },
        {
          "output_type": "stream",
          "name": "stderr",
          "text": [
            "[*********************100%***********************]  1 of 1 completed\n",
            "[*********************100%***********************]  1 of 1 completed\n"
          ]
        },
        {
          "output_type": "stream",
          "name": "stdout",
          "text": [
            "Fetching data for BPCL.NS...\n",
            "Fetching data for HEROMOTOCO.NS...\n"
          ]
        },
        {
          "output_type": "stream",
          "name": "stderr",
          "text": [
            "[*********************100%***********************]  1 of 1 completed\n",
            "[*********************100%***********************]  1 of 1 completed\n"
          ]
        },
        {
          "output_type": "stream",
          "name": "stdout",
          "text": [
            "Fetching data for BRITANNIA.NS...\n",
            "Fetching data for EICHERMOT.NS...\n"
          ]
        },
        {
          "output_type": "stream",
          "name": "stderr",
          "text": [
            "[*********************100%***********************]  1 of 1 completed\n",
            "[*********************100%***********************]  1 of 1 completed\n"
          ]
        },
        {
          "output_type": "stream",
          "name": "stdout",
          "text": [
            "Fetching data for DRREDDY.NS...\n",
            "Fetching data for DIVISLAB.NS...\n"
          ]
        },
        {
          "output_type": "stream",
          "name": "stderr",
          "text": [
            "[*********************100%***********************]  1 of 1 completed\n",
            "[*********************100%***********************]  1 of 1 completed\n"
          ]
        },
        {
          "output_type": "stream",
          "name": "stdout",
          "text": [
            "Fetching data for CIPLA.NS...\n",
            "Fetching data for APOLLOHOSP.NS...\n"
          ]
        },
        {
          "output_type": "stream",
          "name": "stderr",
          "text": [
            "[*********************100%***********************]  1 of 1 completed\n",
            "[*********************100%***********************]  1 of 1 completed\n"
          ]
        },
        {
          "output_type": "stream",
          "name": "stdout",
          "text": [
            "Fetching data for BAJAJFINSV.NS...\n",
            "Fetching data for BAJAJ-AUTO.NS...\n"
          ]
        },
        {
          "output_type": "stream",
          "name": "stderr",
          "text": [
            "[*********************100%***********************]  1 of 1 completed\n",
            "[*********************100%***********************]  1 of 1 completed\n"
          ]
        },
        {
          "output_type": "stream",
          "name": "stdout",
          "text": [
            "Fetching data for GRASIM.NS...\n",
            "Fetching data for TATACONSUM.NS...\n"
          ]
        },
        {
          "output_type": "stream",
          "name": "stderr",
          "text": [
            "[*********************100%***********************]  1 of 1 completed\n",
            "[*********************100%***********************]  1 of 1 completed\n"
          ]
        },
        {
          "output_type": "stream",
          "name": "stdout",
          "text": [
            "Fetching data for NTPC.NS...\n",
            "Fetching data for HINDALCO.NS...\n"
          ]
        },
        {
          "output_type": "stream",
          "name": "stderr",
          "text": [
            "[*********************100%***********************]  1 of 1 completed\n",
            "[*********************100%***********************]  1 of 1 completed\n"
          ]
        },
        {
          "output_type": "stream",
          "name": "stdout",
          "text": [
            "Fetching data for UPL.NS...\n",
            "Fetching data for SHREECEM.NS...\n"
          ]
        },
        {
          "output_type": "stream",
          "name": "stderr",
          "text": [
            "[*********************100%***********************]  1 of 1 completed\n",
            "[*********************100%***********************]  1 of 1 completed\n"
          ]
        },
        {
          "output_type": "stream",
          "name": "stdout",
          "text": [
            "Fetching data for INDUSINDBK.NS...\n",
            "Fetching data for M&M.NS...\n"
          ]
        },
        {
          "output_type": "stream",
          "name": "stderr",
          "text": [
            "[*********************100%***********************]  1 of 1 completed\n",
            "[*********************100%***********************]  1 of 1 completed\n"
          ]
        },
        {
          "output_type": "stream",
          "name": "stdout",
          "text": [
            "Fetching data for ADANIENT.NS...\n",
            "Fetching data for SBILIFE.NS...\n"
          ]
        },
        {
          "output_type": "stream",
          "name": "stderr",
          "text": [
            "[*********************100%***********************]  1 of 1 completed\n",
            "[*********************100%***********************]  1 of 1 completed"
          ]
        },
        {
          "output_type": "stream",
          "name": "stdout",
          "text": [
            "Fetching data for ICICIPRULI.NS...\n"
          ]
        },
        {
          "output_type": "stream",
          "name": "stderr",
          "text": [
            "\n"
          ]
        }
      ]
    },
    {
      "cell_type": "markdown",
      "source": [
        "Alert Signal and Trigger"
      ],
      "metadata": {
        "id": "n_BLzvSE_6UV"
      }
    },
    {
      "cell_type": "code",
      "source": [
        "def backtest_strategy(data, ticker):\n",
        "    # 5WMA indicator\n",
        "    data['5WMA'] = data['close'].rolling(window=5).apply(\n",
        "        lambda x: np.dot(x, np.arange(1, 6)) / 15, raw=True\n",
        "    )\n",
        "\n",
        "    # Resettable count for 7 consecutive candles\n",
        "    def reset_below_prev_count(series):\n",
        "        count = 0\n",
        "        result = []\n",
        "        for is_below in series:\n",
        "            if is_below:\n",
        "                count += 1\n",
        "            else:\n",
        "                count = 0\n",
        "            result.append(count)\n",
        "        return result\n",
        "\n",
        "    # Calculate conditions\n",
        "    data['below_prev'] = data['close'] < data['close'].shift(1)\n",
        "    data['below_prev_count'] = reset_below_prev_count(data['below_prev'])\n",
        "\n",
        "    # Identify alert candles\n",
        "    data['is_alert'] = (\n",
        "        (data['below_prev_count'] == 7) &  # Last 7 candles closed below the previous\n",
        "        (data['close'] < data['5WMA']) &  # Close below 5WMA\n",
        "        (data['close'] > data['open'])    # Green candle\n",
        "    )\n",
        "\n",
        "    # Initialize columns for trades\n",
        "    data['signal'] = 0  # 1 for Buy Signal\n",
        "    data['buy_price'] = np.nan\n",
        "    data['stop_loss'] = np.nan\n",
        "    data['target'] = np.nan\n",
        "\n",
        "    # Generate signals\n",
        "    for i in range(len(data) - 1):\n",
        "        if data['is_alert'].iloc[i]:\n",
        "            data.loc[data.index[i + 1], 'signal'] = 1\n",
        "            data.loc[data.index[i + 1], 'buy_price'] = data['open'].iloc[i + 1]\n",
        "            data.loc[data.index[i + 1], 'stop_loss'] = data['low'].iloc[i]\n",
        "            data.loc[data.index[i + 1], 'target'] = data['open'].iloc[i + 1] + 3\n",
        "\n",
        "    # Backtest the trades\n",
        "    results = []\n",
        "    position_open = False\n",
        "    total_profit = 0\n",
        "\n",
        "    for i in range(len(data)):\n",
        "        if data['signal'].iloc[i] == 1 and not position_open:\n",
        "            position_open = True\n",
        "            buy_price = data['buy_price'].iloc[i]\n",
        "            stop_loss = data['stop_loss'].iloc[i]\n",
        "            target = data['target'].iloc[i]\n",
        "\n",
        "        if position_open:\n",
        "            if data['close'].iloc[i] <= stop_loss:\n",
        "                profit = data['close'].iloc[i] - buy_price\n",
        "                total_profit += profit\n",
        "                results.append({'Ticker': ticker, 'Trade': 'Loss', 'Buy Price': buy_price, 'Exit Price': data['close'].iloc[i], 'Profit': profit})\n",
        "                position_open = False\n",
        "            elif data['close'].iloc[i] >= target:\n",
        "                profit = data['close'].iloc[i] - buy_price\n",
        "                total_profit += profit\n",
        "                results.append({'Ticker': ticker, 'Trade': 'Win', 'Buy Price': buy_price, 'Exit Price': data['close'].iloc[i], 'Profit': profit})\n",
        "                position_open = False\n",
        "\n",
        "    return results, total_profit\n",
        "\n",
        "# Backtest across all stocks\n",
        "all_results = []\n",
        "total_market_profit = 0\n",
        "\n",
        "for ticker, data in market_data.items():\n",
        "    print(f\"Backtesting on {ticker}...\")\n",
        "    results, total_profit = backtest_strategy(data, ticker)\n",
        "    all_results.extend(results)\n",
        "    total_market_profit += total_profit\n"
      ],
      "metadata": {
        "colab": {
          "base_uri": "https://localhost:8080/"
        },
        "id": "qkklleVhAB4B",
        "outputId": "c56bca97-c7f0-4e82-e75d-873de2425237"
      },
      "execution_count": null,
      "outputs": [
        {
          "output_type": "stream",
          "name": "stdout",
          "text": [
            "Backtesting on RELIANCE.NS...\n",
            "Backtesting on TCS.NS...\n",
            "Backtesting on INFY.NS...\n",
            "Backtesting on HDFCBANK.NS...\n",
            "Backtesting on ICICIBANK.NS...\n",
            "Backtesting on ITC.NS...\n",
            "Backtesting on KOTAKBANK.NS...\n",
            "Backtesting on SBIN.NS...\n",
            "Backtesting on HINDUNILVR.NS...\n",
            "Backtesting on BHARTIARTL.NS...\n",
            "Backtesting on ASIANPAINT.NS...\n",
            "Backtesting on AXISBANK.NS...\n",
            "Backtesting on BAJFINANCE.NS...\n",
            "Backtesting on HCLTECH.NS...\n",
            "Backtesting on TITAN.NS...\n",
            "Backtesting on LT.NS...\n",
            "Backtesting on MARUTI.NS...\n",
            "Backtesting on ULTRACEMCO.NS...\n",
            "Backtesting on SUNPHARMA.NS...\n",
            "Backtesting on NESTLEIND.NS...\n",
            "Backtesting on WIPRO.NS...\n",
            "Backtesting on POWERGRID.NS...\n",
            "Backtesting on ONGC.NS...\n",
            "Backtesting on TECHM.NS...\n",
            "Backtesting on TATASTEEL.NS...\n",
            "Backtesting on ADANIPORTS.NS...\n",
            "Backtesting on COALINDIA.NS...\n",
            "Backtesting on JSWSTEEL.NS...\n",
            "Backtesting on HDFCLIFE.NS...\n",
            "Backtesting on BPCL.NS...\n",
            "Backtesting on HEROMOTOCO.NS...\n",
            "Backtesting on BRITANNIA.NS...\n",
            "Backtesting on EICHERMOT.NS...\n",
            "Backtesting on DRREDDY.NS...\n",
            "Backtesting on DIVISLAB.NS...\n",
            "Backtesting on CIPLA.NS...\n",
            "Backtesting on APOLLOHOSP.NS...\n",
            "Backtesting on BAJAJFINSV.NS...\n",
            "Backtesting on BAJAJ-AUTO.NS...\n",
            "Backtesting on GRASIM.NS...\n",
            "Backtesting on TATACONSUM.NS...\n",
            "Backtesting on NTPC.NS...\n",
            "Backtesting on HINDALCO.NS...\n",
            "Backtesting on UPL.NS...\n",
            "Backtesting on SHREECEM.NS...\n",
            "Backtesting on INDUSINDBK.NS...\n",
            "Backtesting on M&M.NS...\n",
            "Backtesting on ADANIENT.NS...\n",
            "Backtesting on SBILIFE.NS...\n",
            "Backtesting on ICICIPRULI.NS...\n"
          ]
        }
      ]
    },
    {
      "cell_type": "markdown",
      "source": [
        "Evaluating Results"
      ],
      "metadata": {
        "id": "fyfoVQgxAbr7"
      }
    },
    {
      "cell_type": "code",
      "source": [
        "results_df = pd.DataFrame(all_results)\n",
        "print(results_df)\n",
        "print(\"Total Trades:\", len(results_df))\n",
        "print(\"Winning Trades:\", len(results_df[results_df['Trade'] == 'Win']))\n",
        "print(\"Losing Trades:\", len(results_df[results_df['Trade'] == 'Loss']))\n",
        "print(f\"Total Profit Across Market: {total_market_profit:.2f}\")\n",
        "if len(results_df) > 0:\n",
        "    accuracy = len(results_df[results_df['Trade'] == 'Win']) / len(results_df) * 100\n",
        "    print(f\"Accuracy: {accuracy:.2f}%\")"
      ],
      "metadata": {
        "colab": {
          "base_uri": "https://localhost:8080/"
        },
        "id": "odoB4xAPAfwC",
        "outputId": "360b38bf-ee77-4a28-ffbd-32298e2764d6"
      },
      "execution_count": null,
      "outputs": [
        {
          "output_type": "stream",
          "name": "stdout",
          "text": [
            "           Ticker Trade     Buy Price    Exit Price    Profit\n",
            "0          TCS.NS   Win   4169.350098   4174.500000  5.149902\n",
            "1     HDFCBANK.NS  Loss   1790.150024   1786.750000 -3.400024\n",
            "2          ITC.NS  Loss    469.350006    468.750000 -0.600006\n",
            "3   BHARTIARTL.NS  Loss   1600.400024   1599.250000 -1.150024\n",
            "4   BHARTIARTL.NS  Loss   1601.050049   1600.349976 -0.700073\n",
            "5   BAJFINANCE.NS   Win   6951.000000   6960.600098  9.600098\n",
            "6   ULTRACEMCO.NS   Win  11380.700195  11384.700195  4.000000\n",
            "7    SUNPHARMA.NS  Loss   1799.000000   1797.550049 -1.449951\n",
            "8    POWERGRID.NS  Loss    318.600006    318.399994 -0.200012\n",
            "9        TECHM.NS   Win   1701.550049   1705.400024  3.849976\n",
            "10    JSWSTEEL.NS  Loss    914.400024    913.700012 -0.700012\n",
            "11  HEROMOTOCO.NS  Loss   4436.100098   4434.350098 -1.750000\n",
            "12   BRITANNIA.NS   Win   4735.049805   4742.200195  7.150391\n",
            "13   EICHERMOT.NS   Win   4712.049805   4721.799805  9.750000\n",
            "14  BAJAJFINSV.NS   Win   1604.050049   1607.800049  3.750000\n",
            "15  BAJAJFINSV.NS   Win   1593.699951   1598.000000  4.300049\n",
            "16         M&M.NS   Win   2973.199951   2978.000000  4.800049\n",
            "17  ICICIPRULI.NS  Loss    654.250000    652.950012 -1.299988\n",
            "Total Trades: 18\n",
            "Winning Trades: 9\n",
            "Losing Trades: 9\n",
            "Total Profit Across Market: 41.10\n",
            "Accuracy: 50.00%\n"
          ]
        }
      ]
    }
  ]
}